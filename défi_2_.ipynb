{
  "nbformat": 4,
  "nbformat_minor": 0,
  "metadata": {
    "colab": {
      "provenance": [],
      "collapsed_sections": [
        "IeKsHGz57wy-",
        "8Luobr_K7niM",
        "9K1OQB1V_EiC",
        "9Xx7pb_cmOfn",
        "u-Ncql2WbLz-",
        "D6ZoYOZcX6v0",
        "vm4ENPqKZDS9",
        "hE77Fs4mc2Mk"
      ]
    },
    "kernelspec": {
      "name": "python3",
      "display_name": "Python 3"
    },
    "language_info": {
      "name": "python"
    }
  },
  "cells": [
    {
      "cell_type": "markdown",
      "source": [
        "# abtract"
      ],
      "metadata": {
        "id": "O0aChawpHW5C"
      }
    },
    {
      "cell_type": "markdown",
      "source": [
        "Les prescriptions de médicaments comportent parfois des erreurs ou des risques potentiels qui nécessitent une intervention pharmaceutique (IP). Ce projet a pour objectif de développer deux modèles de classification pour prédire la nécessité et la nature de ces IPs, en se basant sur les commentaires de pharmaciens, selon les critères établis par la Société Française de Pharmacie Clinique. Le premier modèle est conçu pour prédire si une IP est classée comme « grave » ou « non-grave ». Le deuxième modèle vise à identifier la classe spécifique de l'IP parmi 11 catégories.\n",
        "\n",
        "Les données utilisées proviennent des Hôpitaux Universitaires de Strasbourg. Après un prétraitement initial pour supprimer les lignes vides, deux colonnes cibles ont été créées à partir de la colonne 'PLT' : la première (IP_1) codifie la gravité de l'IP (1 pour « grave », 0 pour « non-grave »), tandis que la seconde (IP_2) correspond à la classe d'IP (de 1 à 11).\n",
        "\n",
        "Pour le modèle de prédiction de gravité (modèle 1), un réseau de neurones séquentiel a été utilisé avec une couche d'embedding, une couche de pooling global, et une couche de sortie sigmoïde. Ce modèle a atteint une précision de 92 %, un score F1 de 0,79, et a bien distingué les interventions graves des non-graves, avec une matrice de confusion montrant une bonne détection des cas graves.  \n",
        "\n",
        "Pour le modèle de classification des classes d'IP (modèle 2), un réseau de neurones avec une couche LSTM et une activation softmax a été employé. Ce modèle a obtenu une précision globale de 76 %, bien qu’il montre une performance variable selon les classes, avec une précision plus élevée pour les classes majoritaires. La performance de ce modèle est détaillée par classe, avec des scores F1 variant en fonction de la distribution des catégories dans les données.\n",
        "\n",
        "Ce travail met en lumière un outil potentiel pour assister les pharmaciens dans l'évaluation des IPs, en intégrant des modèles de classification avancés pour une prise de décision éclairée et sécurisée."
      ],
      "metadata": {
        "id": "mWvxxBC7My29"
      }
    },
    {
      "cell_type": "markdown",
      "source": [
        "# library"
      ],
      "metadata": {
        "id": "IeKsHGz57wy-"
      }
    },
    {
      "cell_type": "code",
      "source": [
        "import pandas as pd\n",
        "import numpy as np\n",
        "import requests\n",
        "from io import StringIO\n",
        "import tensorflow as tf\n",
        "from sklearn.model_selection import train_test_split\n",
        "from sklearn.preprocessing import LabelEncoder\n",
        "from tensorflow.keras.preprocessing.text import Tokenizer\n",
        "from tensorflow.keras.preprocessing.sequence import pad_sequences\n",
        "from tensorflow.keras.models import Sequential\n",
        "from tensorflow.keras.layers import Embedding, Dense, GlobalAveragePooling1D, LSTM\n",
        "from sklearn.metrics import accuracy_score, precision_score, recall_score, f1_score, confusion_matrix, classification_report, roc_curve, auc\n",
        "import seaborn as sns\n",
        "import matplotlib.pyplot as plt\n",
        "from google.colab import files\n",
        "import random"
      ],
      "metadata": {
        "id": "aZpWjOL77yt-"
      },
      "execution_count": 1,
      "outputs": []
    },
    {
      "cell_type": "markdown",
      "source": [
        "# import data"
      ],
      "metadata": {
        "id": "8Luobr_K7niM"
      }
    },
    {
      "cell_type": "code",
      "source": [
        "lien_csv = \"https://raw.githubusercontent.com/pierrebeguin/Master_2_defi_2/main/data_defi_2.csv\"\n",
        "response = requests.get(lien_csv)\n",
        "data = pd.read_csv(StringIO(response.text), sep=\";\")\n",
        "\n",
        "# supprimer la 1er ligne\n",
        "data.columns = data.iloc[0]\n",
        "data = data.iloc[1:].reset_index(drop=True)\n",
        "\n",
        "# Suppression des lignes où la colonne 'Avis.Pharmaceutique' est vide\n",
        "data = data.dropna(subset=['Avis.Pharmaceutique'])\n",
        "\n",
        "# Créer les colonnes IP_1 et IP_2\n",
        "data['PLT'] = pd.to_numeric(data['PLT'], errors='coerce')\n",
        "data['IP_1'] = np.where(data['PLT'].isin([4.1, 4.2, 5.1, 5.2, 5.3, 6.3, 6.4]), 1, 0)\n",
        "data['IP_2'] = np.floor(data['PLT']).astype(int)\n",
        "\n",
        "data.head()\n",
        "#data.groupby('IP_1').size()"
      ],
      "metadata": {
        "colab": {
          "base_uri": "https://localhost:8080/",
          "height": 206
        },
        "id": "app3sNOv7q6p",
        "outputId": "f3982c55-214c-477e-8c11-57418fbb86ce"
      },
      "execution_count": 2,
      "outputs": [
        {
          "output_type": "execute_result",
          "data": {
            "text/plain": [
              "0                               Libellé.Prescription  \\\n",
              "0        CONTRAMAL 100 MG/ML, GOUTTES BUV (TRAMADOL)   \n",
              "1            IMOVANE 7.5 MG, CPR SÉCABLE (ZOPICLONE)   \n",
              "2          COLCHICINE 1 MG, CPR SÉCABLE (COLCHICINE)   \n",
              "3  PANTOPRAZOLE 40 MG, CPR GASTRO-RÉSISTANT (EUPA...   \n",
              "4                            VANCOMYCINE 500 mg 1x/j   \n",
              "\n",
              "0                                Avis.Pharmaceutique  PLT  IP_1  IP_2  \n",
              "0                         30/12/16 pas d'indication   5.3     1     5  \n",
              "1  22/12/16 recommandé -> IMOVANE 3,75MG CP, 1 au...  4.1     1     4  \n",
              "2  au vue de la DFG, il est recommandé d'administ...  4.1     1     4  \n",
              "3  Dose curative et absence d'ATCD gastrique retr...  4.1     1     4  \n",
              "4  posologie infraT veuillez réévaluer la posolog...  3.1     0     3  "
            ],
            "text/html": [
              "\n",
              "  <div id=\"df-2cfc3a55-dba4-4a45-8ce5-98a5833a4d8c\" class=\"colab-df-container\">\n",
              "    <div>\n",
              "<style scoped>\n",
              "    .dataframe tbody tr th:only-of-type {\n",
              "        vertical-align: middle;\n",
              "    }\n",
              "\n",
              "    .dataframe tbody tr th {\n",
              "        vertical-align: top;\n",
              "    }\n",
              "\n",
              "    .dataframe thead th {\n",
              "        text-align: right;\n",
              "    }\n",
              "</style>\n",
              "<table border=\"1\" class=\"dataframe\">\n",
              "  <thead>\n",
              "    <tr style=\"text-align: right;\">\n",
              "      <th></th>\n",
              "      <th>Libellé.Prescription</th>\n",
              "      <th>Avis.Pharmaceutique</th>\n",
              "      <th>PLT</th>\n",
              "      <th>IP_1</th>\n",
              "      <th>IP_2</th>\n",
              "    </tr>\n",
              "  </thead>\n",
              "  <tbody>\n",
              "    <tr>\n",
              "      <th>0</th>\n",
              "      <td>CONTRAMAL 100 MG/ML, GOUTTES BUV (TRAMADOL)</td>\n",
              "      <td>30/12/16 pas d'indication</td>\n",
              "      <td>5.3</td>\n",
              "      <td>1</td>\n",
              "      <td>5</td>\n",
              "    </tr>\n",
              "    <tr>\n",
              "      <th>1</th>\n",
              "      <td>IMOVANE 7.5 MG, CPR SÉCABLE (ZOPICLONE)</td>\n",
              "      <td>22/12/16 recommandé -&gt; IMOVANE 3,75MG CP, 1 au...</td>\n",
              "      <td>4.1</td>\n",
              "      <td>1</td>\n",
              "      <td>4</td>\n",
              "    </tr>\n",
              "    <tr>\n",
              "      <th>2</th>\n",
              "      <td>COLCHICINE 1 MG, CPR SÉCABLE (COLCHICINE)</td>\n",
              "      <td>au vue de la DFG, il est recommandé d'administ...</td>\n",
              "      <td>4.1</td>\n",
              "      <td>1</td>\n",
              "      <td>4</td>\n",
              "    </tr>\n",
              "    <tr>\n",
              "      <th>3</th>\n",
              "      <td>PANTOPRAZOLE 40 MG, CPR GASTRO-RÉSISTANT (EUPA...</td>\n",
              "      <td>Dose curative et absence d'ATCD gastrique retr...</td>\n",
              "      <td>4.1</td>\n",
              "      <td>1</td>\n",
              "      <td>4</td>\n",
              "    </tr>\n",
              "    <tr>\n",
              "      <th>4</th>\n",
              "      <td>VANCOMYCINE 500 mg 1x/j</td>\n",
              "      <td>posologie infraT veuillez réévaluer la posolog...</td>\n",
              "      <td>3.1</td>\n",
              "      <td>0</td>\n",
              "      <td>3</td>\n",
              "    </tr>\n",
              "  </tbody>\n",
              "</table>\n",
              "</div>\n",
              "    <div class=\"colab-df-buttons\">\n",
              "\n",
              "  <div class=\"colab-df-container\">\n",
              "    <button class=\"colab-df-convert\" onclick=\"convertToInteractive('df-2cfc3a55-dba4-4a45-8ce5-98a5833a4d8c')\"\n",
              "            title=\"Convert this dataframe to an interactive table.\"\n",
              "            style=\"display:none;\">\n",
              "\n",
              "  <svg xmlns=\"http://www.w3.org/2000/svg\" height=\"24px\" viewBox=\"0 -960 960 960\">\n",
              "    <path d=\"M120-120v-720h720v720H120Zm60-500h600v-160H180v160Zm220 220h160v-160H400v160Zm0 220h160v-160H400v160ZM180-400h160v-160H180v160Zm440 0h160v-160H620v160ZM180-180h160v-160H180v160Zm440 0h160v-160H620v160Z\"/>\n",
              "  </svg>\n",
              "    </button>\n",
              "\n",
              "  <style>\n",
              "    .colab-df-container {\n",
              "      display:flex;\n",
              "      gap: 12px;\n",
              "    }\n",
              "\n",
              "    .colab-df-convert {\n",
              "      background-color: #E8F0FE;\n",
              "      border: none;\n",
              "      border-radius: 50%;\n",
              "      cursor: pointer;\n",
              "      display: none;\n",
              "      fill: #1967D2;\n",
              "      height: 32px;\n",
              "      padding: 0 0 0 0;\n",
              "      width: 32px;\n",
              "    }\n",
              "\n",
              "    .colab-df-convert:hover {\n",
              "      background-color: #E2EBFA;\n",
              "      box-shadow: 0px 1px 2px rgba(60, 64, 67, 0.3), 0px 1px 3px 1px rgba(60, 64, 67, 0.15);\n",
              "      fill: #174EA6;\n",
              "    }\n",
              "\n",
              "    .colab-df-buttons div {\n",
              "      margin-bottom: 4px;\n",
              "    }\n",
              "\n",
              "    [theme=dark] .colab-df-convert {\n",
              "      background-color: #3B4455;\n",
              "      fill: #D2E3FC;\n",
              "    }\n",
              "\n",
              "    [theme=dark] .colab-df-convert:hover {\n",
              "      background-color: #434B5C;\n",
              "      box-shadow: 0px 1px 3px 1px rgba(0, 0, 0, 0.15);\n",
              "      filter: drop-shadow(0px 1px 2px rgba(0, 0, 0, 0.3));\n",
              "      fill: #FFFFFF;\n",
              "    }\n",
              "  </style>\n",
              "\n",
              "    <script>\n",
              "      const buttonEl =\n",
              "        document.querySelector('#df-2cfc3a55-dba4-4a45-8ce5-98a5833a4d8c button.colab-df-convert');\n",
              "      buttonEl.style.display =\n",
              "        google.colab.kernel.accessAllowed ? 'block' : 'none';\n",
              "\n",
              "      async function convertToInteractive(key) {\n",
              "        const element = document.querySelector('#df-2cfc3a55-dba4-4a45-8ce5-98a5833a4d8c');\n",
              "        const dataTable =\n",
              "          await google.colab.kernel.invokeFunction('convertToInteractive',\n",
              "                                                    [key], {});\n",
              "        if (!dataTable) return;\n",
              "\n",
              "        const docLinkHtml = 'Like what you see? Visit the ' +\n",
              "          '<a target=\"_blank\" href=https://colab.research.google.com/notebooks/data_table.ipynb>data table notebook</a>'\n",
              "          + ' to learn more about interactive tables.';\n",
              "        element.innerHTML = '';\n",
              "        dataTable['output_type'] = 'display_data';\n",
              "        await google.colab.output.renderOutput(dataTable, element);\n",
              "        const docLink = document.createElement('div');\n",
              "        docLink.innerHTML = docLinkHtml;\n",
              "        element.appendChild(docLink);\n",
              "      }\n",
              "    </script>\n",
              "  </div>\n",
              "\n",
              "\n",
              "<div id=\"df-755bc384-9e20-4d69-8232-730ca2fb08f3\">\n",
              "  <button class=\"colab-df-quickchart\" onclick=\"quickchart('df-755bc384-9e20-4d69-8232-730ca2fb08f3')\"\n",
              "            title=\"Suggest charts\"\n",
              "            style=\"display:none;\">\n",
              "\n",
              "<svg xmlns=\"http://www.w3.org/2000/svg\" height=\"24px\"viewBox=\"0 0 24 24\"\n",
              "     width=\"24px\">\n",
              "    <g>\n",
              "        <path d=\"M19 3H5c-1.1 0-2 .9-2 2v14c0 1.1.9 2 2 2h14c1.1 0 2-.9 2-2V5c0-1.1-.9-2-2-2zM9 17H7v-7h2v7zm4 0h-2V7h2v10zm4 0h-2v-4h2v4z\"/>\n",
              "    </g>\n",
              "</svg>\n",
              "  </button>\n",
              "\n",
              "<style>\n",
              "  .colab-df-quickchart {\n",
              "      --bg-color: #E8F0FE;\n",
              "      --fill-color: #1967D2;\n",
              "      --hover-bg-color: #E2EBFA;\n",
              "      --hover-fill-color: #174EA6;\n",
              "      --disabled-fill-color: #AAA;\n",
              "      --disabled-bg-color: #DDD;\n",
              "  }\n",
              "\n",
              "  [theme=dark] .colab-df-quickchart {\n",
              "      --bg-color: #3B4455;\n",
              "      --fill-color: #D2E3FC;\n",
              "      --hover-bg-color: #434B5C;\n",
              "      --hover-fill-color: #FFFFFF;\n",
              "      --disabled-bg-color: #3B4455;\n",
              "      --disabled-fill-color: #666;\n",
              "  }\n",
              "\n",
              "  .colab-df-quickchart {\n",
              "    background-color: var(--bg-color);\n",
              "    border: none;\n",
              "    border-radius: 50%;\n",
              "    cursor: pointer;\n",
              "    display: none;\n",
              "    fill: var(--fill-color);\n",
              "    height: 32px;\n",
              "    padding: 0;\n",
              "    width: 32px;\n",
              "  }\n",
              "\n",
              "  .colab-df-quickchart:hover {\n",
              "    background-color: var(--hover-bg-color);\n",
              "    box-shadow: 0 1px 2px rgba(60, 64, 67, 0.3), 0 1px 3px 1px rgba(60, 64, 67, 0.15);\n",
              "    fill: var(--button-hover-fill-color);\n",
              "  }\n",
              "\n",
              "  .colab-df-quickchart-complete:disabled,\n",
              "  .colab-df-quickchart-complete:disabled:hover {\n",
              "    background-color: var(--disabled-bg-color);\n",
              "    fill: var(--disabled-fill-color);\n",
              "    box-shadow: none;\n",
              "  }\n",
              "\n",
              "  .colab-df-spinner {\n",
              "    border: 2px solid var(--fill-color);\n",
              "    border-color: transparent;\n",
              "    border-bottom-color: var(--fill-color);\n",
              "    animation:\n",
              "      spin 1s steps(1) infinite;\n",
              "  }\n",
              "\n",
              "  @keyframes spin {\n",
              "    0% {\n",
              "      border-color: transparent;\n",
              "      border-bottom-color: var(--fill-color);\n",
              "      border-left-color: var(--fill-color);\n",
              "    }\n",
              "    20% {\n",
              "      border-color: transparent;\n",
              "      border-left-color: var(--fill-color);\n",
              "      border-top-color: var(--fill-color);\n",
              "    }\n",
              "    30% {\n",
              "      border-color: transparent;\n",
              "      border-left-color: var(--fill-color);\n",
              "      border-top-color: var(--fill-color);\n",
              "      border-right-color: var(--fill-color);\n",
              "    }\n",
              "    40% {\n",
              "      border-color: transparent;\n",
              "      border-right-color: var(--fill-color);\n",
              "      border-top-color: var(--fill-color);\n",
              "    }\n",
              "    60% {\n",
              "      border-color: transparent;\n",
              "      border-right-color: var(--fill-color);\n",
              "    }\n",
              "    80% {\n",
              "      border-color: transparent;\n",
              "      border-right-color: var(--fill-color);\n",
              "      border-bottom-color: var(--fill-color);\n",
              "    }\n",
              "    90% {\n",
              "      border-color: transparent;\n",
              "      border-bottom-color: var(--fill-color);\n",
              "    }\n",
              "  }\n",
              "</style>\n",
              "\n",
              "  <script>\n",
              "    async function quickchart(key) {\n",
              "      const quickchartButtonEl =\n",
              "        document.querySelector('#' + key + ' button');\n",
              "      quickchartButtonEl.disabled = true;  // To prevent multiple clicks.\n",
              "      quickchartButtonEl.classList.add('colab-df-spinner');\n",
              "      try {\n",
              "        const charts = await google.colab.kernel.invokeFunction(\n",
              "            'suggestCharts', [key], {});\n",
              "      } catch (error) {\n",
              "        console.error('Error during call to suggestCharts:', error);\n",
              "      }\n",
              "      quickchartButtonEl.classList.remove('colab-df-spinner');\n",
              "      quickchartButtonEl.classList.add('colab-df-quickchart-complete');\n",
              "    }\n",
              "    (() => {\n",
              "      let quickchartButtonEl =\n",
              "        document.querySelector('#df-755bc384-9e20-4d69-8232-730ca2fb08f3 button');\n",
              "      quickchartButtonEl.style.display =\n",
              "        google.colab.kernel.accessAllowed ? 'block' : 'none';\n",
              "    })();\n",
              "  </script>\n",
              "</div>\n",
              "\n",
              "    </div>\n",
              "  </div>\n"
            ],
            "application/vnd.google.colaboratory.intrinsic+json": {
              "type": "dataframe",
              "summary": "{\n  \"name\": \"#data\",\n  \"rows\": 5,\n  \"fields\": [\n    {\n      \"column\": \"Libell\\u00e9.Prescription\",\n      \"properties\": {\n        \"dtype\": \"string\",\n        \"num_unique_values\": 5,\n        \"samples\": [\n          \"IMOVANE 7.5 MG, CPR S\\u00c9CABLE (ZOPICLONE)\",\n          \"VANCOMYCINE 500 mg 1x/j\",\n          \"COLCHICINE 1 MG, CPR S\\u00c9CABLE (COLCHICINE)\"\n        ],\n        \"semantic_type\": \"\",\n        \"description\": \"\"\n      }\n    },\n    {\n      \"column\": \"Avis.Pharmaceutique\",\n      \"properties\": {\n        \"dtype\": \"string\",\n        \"num_unique_values\": 5,\n        \"samples\": [\n          \"22/12/16 recommand\\u00e9 -> IMOVANE 3,75MG CP, 1 au coucher. EB \",\n          \"posologie infraT veuillez r\\u00e9\\u00e9valuer la posologie, nous proposons 30mg/kG, AB \",\n          \"au vue de la DFG, il est recommand\\u00e9 d'administrer 1mg/48h, (donn\\u00e9es GPR), Veuillez r\\u00e9\\u00e9valuer la prescription, AB \"\n        ],\n        \"semantic_type\": \"\",\n        \"description\": \"\"\n      }\n    },\n    {\n      \"column\": \"PLT\",\n      \"properties\": {\n        \"dtype\": \"number\",\n        \"std\": 0.779743547584717,\n        \"min\": 3.1,\n        \"max\": 5.3,\n        \"num_unique_values\": 3,\n        \"samples\": [\n          5.3,\n          4.1,\n          3.1\n        ],\n        \"semantic_type\": \"\",\n        \"description\": \"\"\n      }\n    },\n    {\n      \"column\": \"IP_1\",\n      \"properties\": {\n        \"dtype\": \"number\",\n        \"std\": 0,\n        \"min\": 0,\n        \"max\": 1,\n        \"num_unique_values\": 2,\n        \"samples\": [\n          0,\n          1\n        ],\n        \"semantic_type\": \"\",\n        \"description\": \"\"\n      }\n    },\n    {\n      \"column\": \"IP_2\",\n      \"properties\": {\n        \"dtype\": \"number\",\n        \"std\": 0,\n        \"min\": 3,\n        \"max\": 5,\n        \"num_unique_values\": 3,\n        \"samples\": [\n          5,\n          4\n        ],\n        \"semantic_type\": \"\",\n        \"description\": \"\"\n      }\n    }\n  ]\n}"
            }
          },
          "metadata": {},
          "execution_count": 2
        }
      ]
    },
    {
      "cell_type": "markdown",
      "source": [
        "# Préparation_1"
      ],
      "metadata": {
        "id": "9K1OQB1V_EiC"
      }
    },
    {
      "cell_type": "code",
      "source": [
        "# Fixer les graines pour assurer la reproductibilité\n",
        "np.random.seed(42)\n",
        "tf.random.set_seed(42)\n",
        "random.seed(42)\n",
        "\n",
        "# définir X et y\n",
        "X = data['Avis.Pharmaceutique']\n",
        "y = data['IP_1']\n",
        "\n",
        "# Divisez les données en ensembles d'entraînement et de test\n",
        "X_train, X_test, y_train, y_test = train_test_split(X, y, test_size=0.2, random_state = 42, stratify=y)\n",
        "\n",
        "# Paramètres de tokenisation\n",
        "max_words = 10000\n",
        "max_len = 100\n",
        "\n",
        "# Initialiser le tokenizer\n",
        "tokenizer = Tokenizer()\n",
        "tokenizer.fit_on_texts(X_train)\n",
        "\n",
        "# Convertir les textes en séquences de tokens\n",
        "X_train = tokenizer.texts_to_sequences(X_train)\n",
        "X_test = tokenizer.texts_to_sequences(X_test)\n",
        "\n",
        "# Ajouter du padding pour uniformiser la longueur des séquences\n",
        "X_train = pad_sequences(X_train, padding='post')\n",
        "X_test = pad_sequences(X_test, padding='post')"
      ],
      "metadata": {
        "id": "-4vsxiMmmwB_"
      },
      "execution_count": 3,
      "outputs": []
    },
    {
      "cell_type": "markdown",
      "source": [
        "# Modèle_1"
      ],
      "metadata": {
        "id": "9Xx7pb_cmOfn"
      }
    },
    {
      "cell_type": "code",
      "source": [
        "# Création du modèle de réseau de neurones\n",
        "model_1 = Sequential([\n",
        "    Embedding(input_dim=max_words, output_dim=16, input_length=max_len,\n",
        "              embeddings_initializer=tf.keras.initializers.GlorotUniform(seed=42)),\n",
        "    GlobalAveragePooling1D(),\n",
        "    Dense(16, activation='relu', kernel_initializer=tf.keras.initializers.GlorotUniform(seed=42)),\n",
        "    Dense(1, activation='sigmoid')\n",
        "])\n",
        "\n",
        "\n",
        "# Compilation du modèle\n",
        "model_1.compile(optimizer='adam', loss='binary_crossentropy', metrics=['accuracy'])\n",
        "\n",
        "# Entraînement du modèle\n",
        "model_1.fit(X_train, y_train, epochs=10, batch_size=32, validation_data=(X_test, y_test))"
      ],
      "metadata": {
        "colab": {
          "base_uri": "https://localhost:8080/"
        },
        "id": "VsniQ-f1m4sv",
        "outputId": "494545d8-807c-4f89-81f5-718a3c6d16b5"
      },
      "execution_count": 4,
      "outputs": [
        {
          "output_type": "stream",
          "name": "stdout",
          "text": [
            "Epoch 1/10\n"
          ]
        },
        {
          "output_type": "stream",
          "name": "stderr",
          "text": [
            "/usr/local/lib/python3.10/dist-packages/keras/src/layers/core/embedding.py:90: UserWarning: Argument `input_length` is deprecated. Just remove it.\n",
            "  warnings.warn(\n"
          ]
        },
        {
          "output_type": "stream",
          "name": "stdout",
          "text": [
            "\u001b[1m579/579\u001b[0m \u001b[32m━━━━━━━━━━━━━━━━━━━━\u001b[0m\u001b[37m\u001b[0m \u001b[1m5s\u001b[0m 6ms/step - accuracy: 0.7941 - loss: 0.5127 - val_accuracy: 0.8047 - val_loss: 0.4456\n",
            "Epoch 2/10\n",
            "\u001b[1m579/579\u001b[0m \u001b[32m━━━━━━━━━━━━━━━━━━━━\u001b[0m\u001b[37m\u001b[0m \u001b[1m2s\u001b[0m 3ms/step - accuracy: 0.8134 - loss: 0.4144 - val_accuracy: 0.8743 - val_loss: 0.2923\n",
            "Epoch 3/10\n",
            "\u001b[1m579/579\u001b[0m \u001b[32m━━━━━━━━━━━━━━━━━━━━\u001b[0m\u001b[37m\u001b[0m \u001b[1m3s\u001b[0m 3ms/step - accuracy: 0.8682 - loss: 0.3042 - val_accuracy: 0.8907 - val_loss: 0.2570\n",
            "Epoch 4/10\n",
            "\u001b[1m579/579\u001b[0m \u001b[32m━━━━━━━━━━━━━━━━━━━━\u001b[0m\u001b[37m\u001b[0m \u001b[1m2s\u001b[0m 3ms/step - accuracy: 0.8901 - loss: 0.2653 - val_accuracy: 0.9026 - val_loss: 0.2388\n",
            "Epoch 5/10\n",
            "\u001b[1m579/579\u001b[0m \u001b[32m━━━━━━━━━━━━━━━━━━━━\u001b[0m\u001b[37m\u001b[0m \u001b[1m3s\u001b[0m 3ms/step - accuracy: 0.9019 - loss: 0.2395 - val_accuracy: 0.9071 - val_loss: 0.2269\n",
            "Epoch 6/10\n",
            "\u001b[1m579/579\u001b[0m \u001b[32m━━━━━━━━━━━━━━━━━━━━\u001b[0m\u001b[37m\u001b[0m \u001b[1m3s\u001b[0m 5ms/step - accuracy: 0.9121 - loss: 0.2195 - val_accuracy: 0.9108 - val_loss: 0.2184\n",
            "Epoch 7/10\n",
            "\u001b[1m579/579\u001b[0m \u001b[32m━━━━━━━━━━━━━━━━━━━━\u001b[0m\u001b[37m\u001b[0m \u001b[1m4s\u001b[0m 3ms/step - accuracy: 0.9183 - loss: 0.2037 - val_accuracy: 0.9166 - val_loss: 0.2121\n",
            "Epoch 8/10\n",
            "\u001b[1m579/579\u001b[0m \u001b[32m━━━━━━━━━━━━━━━━━━━━\u001b[0m\u001b[37m\u001b[0m \u001b[1m2s\u001b[0m 3ms/step - accuracy: 0.9255 - loss: 0.1909 - val_accuracy: 0.9186 - val_loss: 0.2075\n",
            "Epoch 9/10\n",
            "\u001b[1m579/579\u001b[0m \u001b[32m━━━━━━━━━━━━━━━━━━━━\u001b[0m\u001b[37m\u001b[0m \u001b[1m2s\u001b[0m 3ms/step - accuracy: 0.9298 - loss: 0.1801 - val_accuracy: 0.9211 - val_loss: 0.2043\n",
            "Epoch 10/10\n",
            "\u001b[1m579/579\u001b[0m \u001b[32m━━━━━━━━━━━━━━━━━━━━\u001b[0m\u001b[37m\u001b[0m \u001b[1m3s\u001b[0m 3ms/step - accuracy: 0.9360 - loss: 0.1710 - val_accuracy: 0.9224 - val_loss: 0.2026\n"
          ]
        },
        {
          "output_type": "execute_result",
          "data": {
            "text/plain": [
              "<keras.src.callbacks.history.History at 0x787ff1bb1960>"
            ]
          },
          "metadata": {},
          "execution_count": 4
        }
      ]
    },
    {
      "cell_type": "markdown",
      "source": [
        "# Evaluation_1"
      ],
      "metadata": {
        "id": "u-Ncql2WbLz-"
      }
    },
    {
      "cell_type": "code",
      "source": [
        "# Prédictions sur les données de test\n",
        "y_pred_proba = model_1.predict(X_test)\n",
        "y_pred = (y_pred_proba > 0.5).astype(\"int32\").flatten()\n",
        "\n",
        "# Calcul des métriques\n",
        "accuracy = accuracy_score(y_test, y_pred)\n",
        "precision = precision_score(y_test, y_pred)\n",
        "recall = recall_score(y_test, y_pred)\n",
        "f1 = f1_score(y_test, y_pred)\n",
        "conf_matrix = confusion_matrix(y_test, y_pred)\n",
        "class_report = classification_report(y_test, y_pred)\n",
        "\n",
        "# Afficher les résultats\n",
        "print(f\"Accuracy : {accuracy:.2f}\")\n",
        "print(f\"Precision: {precision:.2f}\")\n",
        "print(f\"Recall   : {recall:.2f}\")\n",
        "print(f\"F1 Score : {f1:.2f}\")\n",
        "print(\"\\nMatrice de confusion :\\n\", conf_matrix)\n",
        "print(\"\\nClassification Report :\\n\", class_report)"
      ],
      "metadata": {
        "id": "ZM21qHdUrP99",
        "colab": {
          "base_uri": "https://localhost:8080/"
        },
        "outputId": "42a4df08-3b62-4601-c7e9-e72a51743f9f"
      },
      "execution_count": 5,
      "outputs": [
        {
          "output_type": "stream",
          "name": "stdout",
          "text": [
            "\u001b[1m145/145\u001b[0m \u001b[32m━━━━━━━━━━━━━━━━━━━━\u001b[0m\u001b[37m\u001b[0m \u001b[1m0s\u001b[0m 2ms/step\n",
            "Accuracy : 0.92\n",
            "Precision: 0.81\n",
            "Recall   : 0.78\n",
            "F1 Score : 0.80\n",
            "\n",
            "Matrice de confusion :\n",
            " [[3559  164]\n",
            " [ 195  711]]\n",
            "\n",
            "Classification Report :\n",
            "               precision    recall  f1-score   support\n",
            "\n",
            "           0       0.95      0.96      0.95      3723\n",
            "           1       0.81      0.78      0.80       906\n",
            "\n",
            "    accuracy                           0.92      4629\n",
            "   macro avg       0.88      0.87      0.88      4629\n",
            "weighted avg       0.92      0.92      0.92      4629\n",
            "\n"
          ]
        }
      ]
    },
    {
      "cell_type": "code",
      "source": [
        "y_pred_proba = model_1.predict(X_test).ravel()\n",
        "fpr, tpr, thresholds = roc_curve(y_test, y_pred_proba)\n",
        "roc_auc = auc(fpr, tpr)\n",
        "\n",
        "plt.figure()\n",
        "plt.plot(fpr, tpr, color='blue', label=f'Courbe ROC (AUC = {roc_auc:.2f})')\n",
        "plt.plot([0, 1], [0, 1], color='gray', linestyle='--')\n",
        "plt.xlim([0.0, 1.0])\n",
        "plt.ylim([0.0, 1.0])\n",
        "plt.xlabel('Taux de Faux Positifs (FPR)')\n",
        "plt.ylabel('Taux de Vrais Positifs (TPR)')\n",
        "plt.title('Courbe ROC')\n",
        "plt.legend(loc=\"lower right\")\n",
        "plt.show()"
      ],
      "metadata": {
        "colab": {
          "base_uri": "https://localhost:8080/",
          "height": 0
        },
        "id": "JuX3FcPLey9C",
        "outputId": "409268cb-c06f-4d7b-f45e-f286636c1c5e"
      },
      "execution_count": 6,
      "outputs": [
        {
          "output_type": "stream",
          "name": "stdout",
          "text": [
            "\u001b[1m145/145\u001b[0m \u001b[32m━━━━━━━━━━━━━━━━━━━━\u001b[0m\u001b[37m\u001b[0m \u001b[1m0s\u001b[0m 2ms/step\n"
          ]
        },
        {
          "output_type": "display_data",
          "data": {
            "text/plain": [
              "<Figure size 640x480 with 1 Axes>"
            ],
            "image/png": "[encoded data removed]"
          },
          "metadata": {}
        }
      ]
    },
    {
      "cell_type": "markdown",
      "source": [
        "# Préparation_2"
      ],
      "metadata": {
        "id": "D6ZoYOZcX6v0"
      }
    },
    {
      "cell_type": "code",
      "source": [
        "# Fixer les graines pour assurer la reproductibilité\n",
        "np.random.seed(42)\n",
        "tf.random.set_seed(42)\n",
        "random.seed(42)\n",
        "\n",
        "# définir X et y\n",
        "X = data['Avis.Pharmaceutique']\n",
        "y = data['IP_2']\n",
        "\n",
        "# Divisez les données en ensembles d'entraînement et de test\n",
        "X_train, X_test, y_train, y_test = train_test_split(X, y, test_size=0.2, random_state = 42, stratify=y)\n",
        "\n",
        "# Paramètres de tokenisation\n",
        "max_words = 10000\n",
        "max_len = 100\n",
        "\n",
        "# Initialiser le tokenizer\n",
        "tokenizer = Tokenizer()\n",
        "tokenizer.fit_on_texts(X_train)\n",
        "\n",
        "# Convertir les textes en séquences de tokens\n",
        "X_train = tokenizer.texts_to_sequences(X_train)\n",
        "X_test = tokenizer.texts_to_sequences(X_test)\n",
        "\n",
        "# Ajouter du padding pour uniformiser la longueur des séquences\n",
        "X_train = pad_sequences(X_train, padding='post')\n",
        "X_test = pad_sequences(X_test, padding='post')"
      ],
      "metadata": {
        "id": "u2kviBEBX8li"
      },
      "execution_count": 7,
      "outputs": []
    },
    {
      "cell_type": "markdown",
      "source": [
        "# Modèle_2"
      ],
      "metadata": {
        "id": "vm4ENPqKZDS9"
      }
    },
    {
      "cell_type": "code",
      "source": [
        "# Création du modèle de réseau de neurones\n",
        "model_2 = Sequential()\n",
        "model_2.add(Embedding(input_dim=max_words, output_dim=16, input_length=max_len,\n",
        "                      embeddings_initializer=tf.keras.initializers.GlorotUniform(seed=42)))\n",
        "model_2.add(LSTM(64, return_sequences=True, kernel_initializer=tf.keras.initializers.GlorotUniform(seed=42)))\n",
        "model_2.add(GlobalAveragePooling1D())\n",
        "model_2.add(Dense(12, activation='softmax', kernel_initializer=tf.keras.initializers.GlorotUniform(seed=42)))\n",
        "\n",
        "\n",
        "# Compilation du modèle\n",
        "model_2.compile(loss='sparse_categorical_crossentropy', optimizer='adam', metrics=['accuracy'])\n",
        "\n",
        "# Entraînement du modèle\n",
        "model_2.fit(X_train, y_train, epochs=10, validation_data=(X_test, y_test))"
      ],
      "metadata": {
        "colab": {
          "base_uri": "https://localhost:8080/"
        },
        "id": "600lm4aTZC1r",
        "outputId": "e3415b61-e655-4784-84e6-8077919f8d93"
      },
      "execution_count": 8,
      "outputs": [
        {
          "output_type": "stream",
          "name": "stdout",
          "text": [
            "Epoch 1/10\n"
          ]
        },
        {
          "output_type": "stream",
          "name": "stderr",
          "text": [
            "/usr/local/lib/python3.10/dist-packages/keras/src/layers/core/embedding.py:90: UserWarning: Argument `input_length` is deprecated. Just remove it.\n",
            "  warnings.warn(\n"
          ]
        },
        {
          "output_type": "stream",
          "name": "stdout",
          "text": [
            "\u001b[1m579/579\u001b[0m \u001b[32m━━━━━━━━━━━━━━━━━━━━\u001b[0m\u001b[37m\u001b[0m \u001b[1m23s\u001b[0m 36ms/step - accuracy: 0.5047 - loss: 1.6396 - val_accuracy: 0.5502 - val_loss: 1.2935\n",
            "Epoch 2/10\n",
            "\u001b[1m579/579\u001b[0m \u001b[32m━━━━━━━━━━━━━━━━━━━━\u001b[0m\u001b[37m\u001b[0m \u001b[1m44s\u001b[0m 41ms/step - accuracy: 0.6369 - loss: 1.0925 - val_accuracy: 0.6580 - val_loss: 1.0710\n",
            "Epoch 3/10\n",
            "\u001b[1m579/579\u001b[0m \u001b[32m━━━━━━━━━━━━━━━━━━━━\u001b[0m\u001b[37m\u001b[0m \u001b[1m21s\u001b[0m 36ms/step - accuracy: 0.6940 - loss: 0.9387 - val_accuracy: 0.6913 - val_loss: 0.9414\n",
            "Epoch 4/10\n",
            "\u001b[1m579/579\u001b[0m \u001b[32m━━━━━━━━━━━━━━━━━━━━\u001b[0m\u001b[37m\u001b[0m \u001b[1m42s\u001b[0m 39ms/step - accuracy: 0.7445 - loss: 0.7760 - val_accuracy: 0.7187 - val_loss: 0.8667\n",
            "Epoch 5/10\n",
            "\u001b[1m579/579\u001b[0m \u001b[32m━━━━━━━━━━━━━━━━━━━━\u001b[0m\u001b[37m\u001b[0m \u001b[1m21s\u001b[0m 36ms/step - accuracy: 0.7891 - loss: 0.6524 - val_accuracy: 0.7295 - val_loss: 0.8424\n",
            "Epoch 6/10\n",
            "\u001b[1m579/579\u001b[0m \u001b[32m━━━━━━━━━━━━━━━━━━━━\u001b[0m\u001b[37m\u001b[0m \u001b[1m22s\u001b[0m 38ms/step - accuracy: 0.8224 - loss: 0.5564 - val_accuracy: 0.7434 - val_loss: 0.7929\n",
            "Epoch 7/10\n",
            "\u001b[1m579/579\u001b[0m \u001b[32m━━━━━━━━━━━━━━━━━━━━\u001b[0m\u001b[37m\u001b[0m \u001b[1m21s\u001b[0m 37ms/step - accuracy: 0.8435 - loss: 0.4897 - val_accuracy: 0.7516 - val_loss: 0.7880\n",
            "Epoch 8/10\n",
            "\u001b[1m579/579\u001b[0m \u001b[32m━━━━━━━━━━━━━━━━━━━━\u001b[0m\u001b[37m\u001b[0m \u001b[1m44s\u001b[0m 42ms/step - accuracy: 0.8618 - loss: 0.4436 - val_accuracy: 0.7447 - val_loss: 0.7846\n",
            "Epoch 9/10\n",
            "\u001b[1m579/579\u001b[0m \u001b[32m━━━━━━━━━━━━━━━━━━━━\u001b[0m\u001b[37m\u001b[0m \u001b[1m21s\u001b[0m 36ms/step - accuracy: 0.8717 - loss: 0.4071 - val_accuracy: 0.7477 - val_loss: 0.8082\n",
            "Epoch 10/10\n",
            "\u001b[1m579/579\u001b[0m \u001b[32m━━━━━━━━━━━━━━━━━━━━\u001b[0m\u001b[37m\u001b[0m \u001b[1m23s\u001b[0m 39ms/step - accuracy: 0.8848 - loss: 0.3736 - val_accuracy: 0.7531 - val_loss: 0.8059\n"
          ]
        },
        {
          "output_type": "execute_result",
          "data": {
            "text/plain": [
              "<keras.src.callbacks.history.History at 0x787ff1232410>"
            ]
          },
          "metadata": {},
          "execution_count": 8
        }
      ]
    },
    {
      "cell_type": "markdown",
      "source": [
        "# Evaluation_2"
      ],
      "metadata": {
        "id": "hE77Fs4mc2Mk"
      }
    },
    {
      "cell_type": "code",
      "source": [
        "# Prédire sur l'ensemble de test\n",
        "y_pred = model_2.predict(X_test)\n",
        "y_pred_classes = np.argmax(y_pred, axis=1)\n",
        "\n",
        "# Évaluation détaillée\n",
        "print(\"Classification Report:\")\n",
        "print(classification_report(y_test, y_pred_classes))"
      ],
      "metadata": {
        "colab": {
          "base_uri": "https://localhost:8080/"
        },
        "id": "JC5TmwggdQwS",
        "outputId": "b3b54f70-82a4-42f8-9c37-5f48d57a31ef"
      },
      "execution_count": 9,
      "outputs": [
        {
          "output_type": "stream",
          "name": "stdout",
          "text": [
            "\u001b[1m145/145\u001b[0m \u001b[32m━━━━━━━━━━━━━━━━━━━━\u001b[0m\u001b[37m\u001b[0m \u001b[1m1s\u001b[0m 8ms/step\n",
            "Classification Report:\n",
            "              precision    recall  f1-score   support\n",
            "\n",
            "           1       0.91      0.85      0.88      2253\n",
            "           2       0.84      0.62      0.71       151\n",
            "           3       0.28      0.37      0.32       194\n",
            "           4       0.67      0.75      0.71       613\n",
            "           5       0.38      0.57      0.46       166\n",
            "           6       0.78      0.85      0.82       193\n",
            "           7       0.00      0.00      0.00         2\n",
            "           8       0.80      0.70      0.75       589\n",
            "           9       0.00      0.00      0.00         4\n",
            "          10       0.52      0.60      0.56       148\n",
            "          11       0.55      0.58      0.56       316\n",
            "\n",
            "    accuracy                           0.75      4629\n",
            "   macro avg       0.52      0.54      0.52      4629\n",
            "weighted avg       0.77      0.75      0.76      4629\n",
            "\n"
          ]
        },
        {
          "output_type": "stream",
          "name": "stderr",
          "text": [
            "/usr/local/lib/python3.10/dist-packages/sklearn/metrics/_classification.py:1531: UndefinedMetricWarning: Precision is ill-defined and being set to 0.0 in labels with no predicted samples. Use `zero_division` parameter to control this behavior.\n",
            "  _warn_prf(average, modifier, f\"{metric.capitalize()} is\", len(result))\n",
            "/usr/local/lib/python3.10/dist-packages/sklearn/metrics/_classification.py:1531: UndefinedMetricWarning: Precision is ill-defined and being set to 0.0 in labels with no predicted samples. Use `zero_division` parameter to control this behavior.\n",
            "  _warn_prf(average, modifier, f\"{metric.capitalize()} is\", len(result))\n",
            "/usr/local/lib/python3.10/dist-packages/sklearn/metrics/_classification.py:1531: UndefinedMetricWarning: Precision is ill-defined and being set to 0.0 in labels with no predicted samples. Use `zero_division` parameter to control this behavior.\n",
            "  _warn_prf(average, modifier, f\"{metric.capitalize()} is\", len(result))\n"
          ]
        }
      ]
    },
    {
      "cell_type": "code",
      "source": [
        "# Matrice de Confusion\n",
        "conf_matrix = confusion_matrix(y_test, y_pred_classes)\n",
        "\n",
        "plt.figure(figsize=(10, 8))\n",
        "sns.heatmap(conf_matrix, annot=True, fmt=\"d\", cmap=\"Blues\", cbar=False, xticklabels=range(1, 12), yticklabels=range(1, 12))\n",
        "plt.xlabel(\"Prédictions\")\n",
        "plt.ylabel(\"Véritables classes\")\n",
        "plt.title(\"Matrice de Confusion\")\n",
        "plt.show()"
      ],
      "metadata": {
        "colab": {
          "base_uri": "https://localhost:8080/",
          "height": 0
        },
        "id": "wHOl_LyNgmUu",
        "outputId": "e5c94329-4304-424f-dd3d-24b7c7be07f8"
      },
      "execution_count": 10,
      "outputs": [
        {
          "output_type": "display_data",
          "data": {
            "text/plain": [
              "<Figure size 1000x800 with 1 Axes>"
            ],
            "image/png": "[encoded data removed]"
          },
          "metadata": {}
        }
      ]
    },
    {
      "cell_type": "markdown",
      "source": [
        "# data_test"
      ],
      "metadata": {
        "id": "kowyla2N6CtD"
      }
    },
    {
      "cell_type": "code",
      "source": [
        "lien_csv_test = \"https://raw.githubusercontent.com/pierrebeguin/Master_2_defi_2/main/valid_set.csv\"\n",
        "response_test = requests.get(lien_csv_test)\n",
        "data_test = pd.read_csv(StringIO(response_test.text), sep=\";\")\n",
        "\n",
        "# Suppression des lignes où la colonne 'avis' est vide\n",
        "data_test = data_test.dropna(subset=['Avis.Pharmaceutique'])\n",
        "\n",
        "# Réinitialisez l'index\n",
        "data_test = data_test.reset_index(drop=True)\n",
        "\n",
        "#data_test.head()"
      ],
      "metadata": {
        "id": "qC5LVwSi6D_k"
      },
      "execution_count": 11,
      "outputs": []
    },
    {
      "cell_type": "code",
      "source": [
        "### Fixer les graines pour assurer la reproductibilité\n",
        "np.random.seed(42)\n",
        "tf.random.set_seed(42)\n",
        "random.seed(42)\n",
        "\n",
        "### Préparation\n",
        "\n",
        "train = data_test['Avis.Pharmaceutique']\n",
        "tokenizer = Tokenizer()\n",
        "tokenizer.fit_on_texts(train)\n",
        "train = tokenizer.texts_to_sequences(train)\n",
        "train = pad_sequences(train, padding='post')\n",
        "\n",
        "### Model\n",
        "\n",
        "y_pred_1 = model_1.predict(train)\n",
        "y_pred_1 = (y_pred_1 > 0.5).astype(\"int32\").flatten()\n",
        "\n",
        "y_pred_2 = model_2.predict(train)\n",
        "y_pred_2 = np.argmax(y_pred_2, axis=1)\n",
        "\n",
        "### Résultat\n",
        "\n",
        "y_pred_1 = pd.Series(y_pred_1, name=\"Statue\")\n",
        "y_pred_2 = pd.Series(y_pred_2, name=\"Classe\")\n",
        "result = pd.concat([data_test, y_pred_1, y_pred_2], axis=1)\n",
        "\n",
        "### Afficher DataSet\n",
        "\n",
        "display(result.head())\n",
        "display(result.groupby('Statue').size())\n",
        "display(result.groupby('Classe').size())"
      ],
      "metadata": {
        "colab": {
          "base_uri": "https://localhost:8080/",
          "height": 0
        },
        "id": "VZPe3dL-6vhO",
        "outputId": "eeefbed8-7b67-4509-95a4-e81ac8d9f70e"
      },
      "execution_count": 12,
      "outputs": [
        {
          "output_type": "stream",
          "name": "stdout",
          "text": [
            "\u001b[1m128/128\u001b[0m \u001b[32m━━━━━━━━━━━━━━━━━━━━\u001b[0m\u001b[37m\u001b[0m \u001b[1m0s\u001b[0m 1ms/step\n",
            "\u001b[1m128/128\u001b[0m \u001b[32m━━━━━━━━━━━━━━━━━━━━\u001b[0m\u001b[37m\u001b[0m \u001b[1m1s\u001b[0m 8ms/step\n"
          ]
        },
        {
          "output_type": "display_data",
          "data": {
            "text/plain": [
              "                                Libellé.Prescription  \\\n",
              "0  perf NEFOPAM 60 mg (Acupan) + 1.25 DROPERIDOL ...   \n",
              "1                                   LAMALINE, GÉLULE   \n",
              "2                                   XYZALL 5 MG, CPR   \n",
              "3  AMOXICILLINE + A.CLAVULANIQUE 1g x4/j (Augmentin)   \n",
              "4  FELODIPINE LP 5 MG SANDOZ, CPR À LIBÉRATION PR...   \n",
              "\n",
              "                                 Avis.Pharmaceutique  Statue  Classe  \n",
              "0  ASSOCIATION CONTRE INDIQUEE : SEROPLEX 20 MG C...       0       6  \n",
              "1  Propose arrêt pendant hospitalisation ou DOLIP...       0       1  \n",
              "2  Non référencé aux HUS, propose CETIRIZINE 10MG...       0       1  \n",
              "3  Il est recommandé de réduire la posologie en a...       0       1  \n",
              "4  Non référencé aux HUS, Substitué par amlodipin...       0       1  "
            ],
            "text/html": [
              "\n",
              "  <div id=\"df-0e7da720-a0e9-42c2-affb-fc31694c032d\" class=\"colab-df-container\">\n",
              "    <div>\n",
              "<style scoped>\n",
              "    .dataframe tbody tr th:only-of-type {\n",
              "        vertical-align: middle;\n",
              "    }\n",
              "\n",
              "    .dataframe tbody tr th {\n",
              "        vertical-align: top;\n",
              "    }\n",
              "\n",
              "    .dataframe thead th {\n",
              "        text-align: right;\n",
              "    }\n",
              "</style>\n",
              "<table border=\"1\" class=\"dataframe\">\n",
              "  <thead>\n",
              "    <tr style=\"text-align: right;\">\n",
              "      <th></th>\n",
              "      <th>Libellé.Prescription</th>\n",
              "      <th>Avis.Pharmaceutique</th>\n",
              "      <th>Statue</th>\n",
              "      <th>Classe</th>\n",
              "    </tr>\n",
              "  </thead>\n",
              "  <tbody>\n",
              "    <tr>\n",
              "      <th>0</th>\n",
              "      <td>perf NEFOPAM 60 mg (Acupan) + 1.25 DROPERIDOL ...</td>\n",
              "      <td>ASSOCIATION CONTRE INDIQUEE : SEROPLEX 20 MG C...</td>\n",
              "      <td>0</td>\n",
              "      <td>6</td>\n",
              "    </tr>\n",
              "    <tr>\n",
              "      <th>1</th>\n",
              "      <td>LAMALINE, GÉLULE</td>\n",
              "      <td>Propose arrêt pendant hospitalisation ou DOLIP...</td>\n",
              "      <td>0</td>\n",
              "      <td>1</td>\n",
              "    </tr>\n",
              "    <tr>\n",
              "      <th>2</th>\n",
              "      <td>XYZALL 5 MG, CPR</td>\n",
              "      <td>Non référencé aux HUS, propose CETIRIZINE 10MG...</td>\n",
              "      <td>0</td>\n",
              "      <td>1</td>\n",
              "    </tr>\n",
              "    <tr>\n",
              "      <th>3</th>\n",
              "      <td>AMOXICILLINE + A.CLAVULANIQUE 1g x4/j (Augmentin)</td>\n",
              "      <td>Il est recommandé de réduire la posologie en a...</td>\n",
              "      <td>0</td>\n",
              "      <td>1</td>\n",
              "    </tr>\n",
              "    <tr>\n",
              "      <th>4</th>\n",
              "      <td>FELODIPINE LP 5 MG SANDOZ, CPR À LIBÉRATION PR...</td>\n",
              "      <td>Non référencé aux HUS, Substitué par amlodipin...</td>\n",
              "      <td>0</td>\n",
              "      <td>1</td>\n",
              "    </tr>\n",
              "  </tbody>\n",
              "</table>\n",
              "</div>\n",
              "    <div class=\"colab-df-buttons\">\n",
              "\n",
              "  <div class=\"colab-df-container\">\n",
              "    <button class=\"colab-df-convert\" onclick=\"convertToInteractive('df-0e7da720-a0e9-42c2-affb-fc31694c032d')\"\n",
              "            title=\"Convert this dataframe to an interactive table.\"\n",
              "            style=\"display:none;\">\n",
              "\n",
              "  <svg xmlns=\"http://www.w3.org/2000/svg\" height=\"24px\" viewBox=\"0 -960 960 960\">\n",
              "    <path d=\"M120-120v-720h720v720H120Zm60-500h600v-160H180v160Zm220 220h160v-160H400v160Zm0 220h160v-160H400v160ZM180-400h160v-160H180v160Zm440 0h160v-160H620v160ZM180-180h160v-160H180v160Zm440 0h160v-160H620v160Z\"/>\n",
              "  </svg>\n",
              "    </button>\n",
              "\n",
              "  <style>\n",
              "    .colab-df-container {\n",
              "      display:flex;\n",
              "      gap: 12px;\n",
              "    }\n",
              "\n",
              "    .colab-df-convert {\n",
              "      background-color: #E8F0FE;\n",
              "      border: none;\n",
              "      border-radius: 50%;\n",
              "      cursor: pointer;\n",
              "      display: none;\n",
              "      fill: #1967D2;\n",
              "      height: 32px;\n",
              "      padding: 0 0 0 0;\n",
              "      width: 32px;\n",
              "    }\n",
              "\n",
              "    .colab-df-convert:hover {\n",
              "      background-color: #E2EBFA;\n",
              "      box-shadow: 0px 1px 2px rgba(60, 64, 67, 0.3), 0px 1px 3px 1px rgba(60, 64, 67, 0.15);\n",
              "      fill: #174EA6;\n",
              "    }\n",
              "\n",
              "    .colab-df-buttons div {\n",
              "      margin-bottom: 4px;\n",
              "    }\n",
              "\n",
              "    [theme=dark] .colab-df-convert {\n",
              "      background-color: #3B4455;\n",
              "      fill: #D2E3FC;\n",
              "    }\n",
              "\n",
              "    [theme=dark] .colab-df-convert:hover {\n",
              "      background-color: #434B5C;\n",
              "      box-shadow: 0px 1px 3px 1px rgba(0, 0, 0, 0.15);\n",
              "      filter: drop-shadow(0px 1px 2px rgba(0, 0, 0, 0.3));\n",
              "      fill: #FFFFFF;\n",
              "    }\n",
              "  </style>\n",
              "\n",
              "    <script>\n",
              "      const buttonEl =\n",
              "        document.querySelector('#df-0e7da720-a0e9-42c2-affb-fc31694c032d button.colab-df-convert');\n",
              "      buttonEl.style.display =\n",
              "        google.colab.kernel.accessAllowed ? 'block' : 'none';\n",
              "\n",
              "      async function convertToInteractive(key) {\n",
              "        const element = document.querySelector('#df-0e7da720-a0e9-42c2-affb-fc31694c032d');\n",
              "        const dataTable =\n",
              "          await google.colab.kernel.invokeFunction('convertToInteractive',\n",
              "                                                    [key], {});\n",
              "        if (!dataTable) return;\n",
              "\n",
              "        const docLinkHtml = 'Like what you see? Visit the ' +\n",
              "          '<a target=\"_blank\" href=https://colab.research.google.com/notebooks/data_table.ipynb>data table notebook</a>'\n",
              "          + ' to learn more about interactive tables.';\n",
              "        element.innerHTML = '';\n",
              "        dataTable['output_type'] = 'display_data';\n",
              "        await google.colab.output.renderOutput(dataTable, element);\n",
              "        const docLink = document.createElement('div');\n",
              "        docLink.innerHTML = docLinkHtml;\n",
              "        element.appendChild(docLink);\n",
              "      }\n",
              "    </script>\n",
              "  </div>\n",
              "\n",
              "\n",
              "<div id=\"df-ef2dbc95-d590-45fc-80f8-34d04f969236\">\n",
              "  <button class=\"colab-df-quickchart\" onclick=\"quickchart('df-ef2dbc95-d590-45fc-80f8-34d04f969236')\"\n",
              "            title=\"Suggest charts\"\n",
              "            style=\"display:none;\">\n",
              "\n",
              "<svg xmlns=\"http://www.w3.org/2000/svg\" height=\"24px\"viewBox=\"0 0 24 24\"\n",
              "     width=\"24px\">\n",
              "    <g>\n",
              "        <path d=\"M19 3H5c-1.1 0-2 .9-2 2v14c0 1.1.9 2 2 2h14c1.1 0 2-.9 2-2V5c0-1.1-.9-2-2-2zM9 17H7v-7h2v7zm4 0h-2V7h2v10zm4 0h-2v-4h2v4z\"/>\n",
              "    </g>\n",
              "</svg>\n",
              "  </button>\n",
              "\n",
              "<style>\n",
              "  .colab-df-quickchart {\n",
              "      --bg-color: #E8F0FE;\n",
              "      --fill-color: #1967D2;\n",
              "      --hover-bg-color: #E2EBFA;\n",
              "      --hover-fill-color: #174EA6;\n",
              "      --disabled-fill-color: #AAA;\n",
              "      --disabled-bg-color: #DDD;\n",
              "  }\n",
              "\n",
              "  [theme=dark] .colab-df-quickchart {\n",
              "      --bg-color: #3B4455;\n",
              "      --fill-color: #D2E3FC;\n",
              "      --hover-bg-color: #434B5C;\n",
              "      --hover-fill-color: #FFFFFF;\n",
              "      --disabled-bg-color: #3B4455;\n",
              "      --disabled-fill-color: #666;\n",
              "  }\n",
              "\n",
              "  .colab-df-quickchart {\n",
              "    background-color: var(--bg-color);\n",
              "    border: none;\n",
              "    border-radius: 50%;\n",
              "    cursor: pointer;\n",
              "    display: none;\n",
              "    fill: var(--fill-color);\n",
              "    height: 32px;\n",
              "    padding: 0;\n",
              "    width: 32px;\n",
              "  }\n",
              "\n",
              "  .colab-df-quickchart:hover {\n",
              "    background-color: var(--hover-bg-color);\n",
              "    box-shadow: 0 1px 2px rgba(60, 64, 67, 0.3), 0 1px 3px 1px rgba(60, 64, 67, 0.15);\n",
              "    fill: var(--button-hover-fill-color);\n",
              "  }\n",
              "\n",
              "  .colab-df-quickchart-complete:disabled,\n",
              "  .colab-df-quickchart-complete:disabled:hover {\n",
              "    background-color: var(--disabled-bg-color);\n",
              "    fill: var(--disabled-fill-color);\n",
              "    box-shadow: none;\n",
              "  }\n",
              "\n",
              "  .colab-df-spinner {\n",
              "    border: 2px solid var(--fill-color);\n",
              "    border-color: transparent;\n",
              "    border-bottom-color: var(--fill-color);\n",
              "    animation:\n",
              "      spin 1s steps(1) infinite;\n",
              "  }\n",
              "\n",
              "  @keyframes spin {\n",
              "    0% {\n",
              "      border-color: transparent;\n",
              "      border-bottom-color: var(--fill-color);\n",
              "      border-left-color: var(--fill-color);\n",
              "    }\n",
              "    20% {\n",
              "      border-color: transparent;\n",
              "      border-left-color: var(--fill-color);\n",
              "      border-top-color: var(--fill-color);\n",
              "    }\n",
              "    30% {\n",
              "      border-color: transparent;\n",
              "      border-left-color: var(--fill-color);\n",
              "      border-top-color: var(--fill-color);\n",
              "      border-right-color: var(--fill-color);\n",
              "    }\n",
              "    40% {\n",
              "      border-color: transparent;\n",
              "      border-right-color: var(--fill-color);\n",
              "      border-top-color: var(--fill-color);\n",
              "    }\n",
              "    60% {\n",
              "      border-color: transparent;\n",
              "      border-right-color: var(--fill-color);\n",
              "    }\n",
              "    80% {\n",
              "      border-color: transparent;\n",
              "      border-right-color: var(--fill-color);\n",
              "      border-bottom-color: var(--fill-color);\n",
              "    }\n",
              "    90% {\n",
              "      border-color: transparent;\n",
              "      border-bottom-color: var(--fill-color);\n",
              "    }\n",
              "  }\n",
              "</style>\n",
              "\n",
              "  <script>\n",
              "    async function quickchart(key) {\n",
              "      const quickchartButtonEl =\n",
              "        document.querySelector('#' + key + ' button');\n",
              "      quickchartButtonEl.disabled = true;  // To prevent multiple clicks.\n",
              "      quickchartButtonEl.classList.add('colab-df-spinner');\n",
              "      try {\n",
              "        const charts = await google.colab.kernel.invokeFunction(\n",
              "            'suggestCharts', [key], {});\n",
              "      } catch (error) {\n",
              "        console.error('Error during call to suggestCharts:', error);\n",
              "      }\n",
              "      quickchartButtonEl.classList.remove('colab-df-spinner');\n",
              "      quickchartButtonEl.classList.add('colab-df-quickchart-complete');\n",
              "    }\n",
              "    (() => {\n",
              "      let quickchartButtonEl =\n",
              "        document.querySelector('#df-ef2dbc95-d590-45fc-80f8-34d04f969236 button');\n",
              "      quickchartButtonEl.style.display =\n",
              "        google.colab.kernel.accessAllowed ? 'block' : 'none';\n",
              "    })();\n",
              "  </script>\n",
              "</div>\n",
              "\n",
              "    </div>\n",
              "  </div>\n"
            ],
            "application/vnd.google.colaboratory.intrinsic+json": {
              "type": "dataframe",
              "summary": "{\n  \"name\": \"display(result\",\n  \"rows\": 5,\n  \"fields\": [\n    {\n      \"column\": \"Libell\\u00e9.Prescription\",\n      \"properties\": {\n        \"dtype\": \"string\",\n        \"num_unique_values\": 5,\n        \"samples\": [\n          \"LAMALINE, G\\u00c9LULE\",\n          \"FELODIPINE LP 5 MG SANDOZ, CPR \\u00c0 LIB\\u00c9RATION PROLONG\\u00c9E  \",\n          \"XYZALL 5 MG, CPR\"\n        ],\n        \"semantic_type\": \"\",\n        \"description\": \"\"\n      }\n    },\n    {\n      \"column\": \"Avis.Pharmaceutique\",\n      \"properties\": {\n        \"dtype\": \"string\",\n        \"num_unique_values\": 5,\n        \"samples\": [\n          \"Propose arr\\u00eat pendant hospitalisation ou DOLIPRANE 500 MG GEL, 1 g\\u00e9lule 3 fois par jour, 1 le matin, 1 le midi, 1 le soir   \",\n          \"Non r\\u00e9f\\u00e9renc\\u00e9 aux HUS, Substitu\\u00e9 par amlodipine 5 mg 1 cp/j. AD. 24/03/17\",\n          \"Non r\\u00e9f\\u00e9renc\\u00e9 aux HUS, propose CETIRIZINE 10MG CP, 1 fois par jour en 1 prise le soir \\u00e0 20h00   \"\n        ],\n        \"semantic_type\": \"\",\n        \"description\": \"\"\n      }\n    },\n    {\n      \"column\": \"Statue\",\n      \"properties\": {\n        \"dtype\": \"int32\",\n        \"num_unique_values\": 1,\n        \"samples\": [\n          0\n        ],\n        \"semantic_type\": \"\",\n        \"description\": \"\"\n      }\n    },\n    {\n      \"column\": \"Classe\",\n      \"properties\": {\n        \"dtype\": \"number\",\n        \"std\": 2,\n        \"min\": 1,\n        \"max\": 6,\n        \"num_unique_values\": 2,\n        \"samples\": [\n          1\n        ],\n        \"semantic_type\": \"\",\n        \"description\": \"\"\n      }\n    }\n  ]\n}"
            }
          },
          "metadata": {}
        },
        {
          "output_type": "display_data",
          "data": {
            "text/plain": [
              "Statue\n",
              "0    3841\n",
              "1     233\n",
              "dtype: int64"
            ],
            "text/html": [
              "<div>\n",
              "<style scoped>\n",
              "    .dataframe tbody tr th:only-of-type {\n",
              "        vertical-align: middle;\n",
              "    }\n",
              "\n",
              "    .dataframe tbody tr th {\n",
              "        vertical-align: top;\n",
              "    }\n",
              "\n",
              "    .dataframe thead th {\n",
              "        text-align: right;\n",
              "    }\n",
              "</style>\n",
              "<table border=\"1\" class=\"dataframe\">\n",
              "  <thead>\n",
              "    <tr style=\"text-align: right;\">\n",
              "      <th></th>\n",
              "      <th>0</th>\n",
              "    </tr>\n",
              "    <tr>\n",
              "      <th>Statue</th>\n",
              "      <th></th>\n",
              "    </tr>\n",
              "  </thead>\n",
              "  <tbody>\n",
              "    <tr>\n",
              "      <th>0</th>\n",
              "      <td>3841</td>\n",
              "    </tr>\n",
              "    <tr>\n",
              "      <th>1</th>\n",
              "      <td>233</td>\n",
              "    </tr>\n",
              "  </tbody>\n",
              "</table>\n",
              "</div><br><label><b>dtype:</b> int64</label>"
            ]
          },
          "metadata": {}
        },
        {
          "output_type": "display_data",
          "data": {
            "text/plain": [
              "Classe\n",
              "1     2041\n",
              "2      108\n",
              "3      286\n",
              "4      350\n",
              "5      291\n",
              "6       52\n",
              "8      345\n",
              "10     177\n",
              "11     424\n",
              "dtype: int64"
            ],
            "text/html": [
              "<div>\n",
              "<style scoped>\n",
              "    .dataframe tbody tr th:only-of-type {\n",
              "        vertical-align: middle;\n",
              "    }\n",
              "\n",
              "    .dataframe tbody tr th {\n",
              "        vertical-align: top;\n",
              "    }\n",
              "\n",
              "    .dataframe thead th {\n",
              "        text-align: right;\n",
              "    }\n",
              "</style>\n",
              "<table border=\"1\" class=\"dataframe\">\n",
              "  <thead>\n",
              "    <tr style=\"text-align: right;\">\n",
              "      <th></th>\n",
              "      <th>0</th>\n",
              "    </tr>\n",
              "    <tr>\n",
              "      <th>Classe</th>\n",
              "      <th></th>\n",
              "    </tr>\n",
              "  </thead>\n",
              "  <tbody>\n",
              "    <tr>\n",
              "      <th>1</th>\n",
              "      <td>2041</td>\n",
              "    </tr>\n",
              "    <tr>\n",
              "      <th>2</th>\n",
              "      <td>108</td>\n",
              "    </tr>\n",
              "    <tr>\n",
              "      <th>3</th>\n",
              "      <td>286</td>\n",
              "    </tr>\n",
              "    <tr>\n",
              "      <th>4</th>\n",
              "      <td>350</td>\n",
              "    </tr>\n",
              "    <tr>\n",
              "      <th>5</th>\n",
              "      <td>291</td>\n",
              "    </tr>\n",
              "    <tr>\n",
              "      <th>6</th>\n",
              "      <td>52</td>\n",
              "    </tr>\n",
              "    <tr>\n",
              "      <th>8</th>\n",
              "      <td>345</td>\n",
              "    </tr>\n",
              "    <tr>\n",
              "      <th>10</th>\n",
              "      <td>177</td>\n",
              "    </tr>\n",
              "    <tr>\n",
              "      <th>11</th>\n",
              "      <td>424</td>\n",
              "    </tr>\n",
              "  </tbody>\n",
              "</table>\n",
              "</div><br><label><b>dtype:</b> int64</label>"
            ]
          },
          "metadata": {}
        }
      ]
    },
    {
      "cell_type": "code",
      "source": [
        "# Télécharger les résultats\n",
        "\n",
        "result.to_csv('resultat_defi_2_beguin_pierre.csv', index=False, sep=\";\")\n",
        "files.download('resultat_defi_2_beguin_pierre.csv')"
      ],
      "metadata": {
        "colab": {
          "base_uri": "https://localhost:8080/",
          "height": 0
        },
        "id": "eToD6z4zPh80",
        "outputId": "6c301d81-2a60-49df-b188-1b5ca377bcba"
      },
      "execution_count": 13,
      "outputs": [
        {
          "output_type": "display_data",
          "data": {
            "text/plain": [
              "<IPython.core.display.Javascript object>"
            ],
            "application/javascript": [
              "\n",
              "    async function download(id, filename, size) {\n",
              "      if (!google.colab.kernel.accessAllowed) {\n",
              "        return;\n",
              "      }\n",
              "      const div = document.createElement('div');\n",
              "      const label = document.createElement('label');\n",
              "      label.textContent = `Downloading \"${filename}\": `;\n",
              "      div.appendChild(label);\n",
              "      const progress = document.createElement('progress');\n",
              "      progress.max = size;\n",
              "      div.appendChild(progress);\n",
              "      document.body.appendChild(div);\n",
              "\n",
              "      const buffers = [];\n",
              "      let downloaded = 0;\n",
              "\n",
              "      const channel = await google.colab.kernel.comms.open(id);\n",
              "      // Send a message to notify the kernel that we're ready.\n",
              "      channel.send({})\n",
              "\n",
              "      for await (const message of channel.messages) {\n",
              "        // Send a message to notify the kernel that we're ready.\n",
              "        channel.send({})\n",
              "        if (message.buffers) {\n",
              "          for (const buffer of message.buffers) {\n",
              "            buffers.push(buffer);\n",
              "            downloaded += buffer.byteLength;\n",
              "            progress.value = downloaded;\n",
              "          }\n",
              "        }\n",
              "      }\n",
              "      const blob = new Blob(buffers, {type: 'application/binary'});\n",
              "      const a = document.createElement('a');\n",
              "      a.href = window.URL.createObjectURL(blob);\n",
              "      a.download = filename;\n",
              "      div.appendChild(a);\n",
              "      a.click();\n",
              "      div.remove();\n",
              "    }\n",
              "  "
            ]
          },
          "metadata": {}
        },
        {
          "output_type": "display_data",
          "data": {
            "text/plain": [
              "<IPython.core.display.Javascript object>"
            ],
            "application/javascript": [
              "download(\"download_793c9372-bf88-4902-9669-7ec90263ace0\", \"resultat_defi_2_beguin_pierre.csv\", 555334)"
            ]
          },
          "metadata": {}
        }
      ]
    }
  ]
}